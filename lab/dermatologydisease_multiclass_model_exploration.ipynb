{
 "cells": [
  {
   "cell_type": "code",
   "execution_count": 1,
   "metadata": {},
   "outputs": [
    {
     "name": "stderr",
     "output_type": "stream",
     "text": [
      "c:\\Users\\Aussar\\.virtualenvs\\mlops-zoomcamp-project-fK4v1EPx\\lib\\site-packages\\tqdm\\auto.py:21: TqdmWarning: IProgress not found. Please update jupyter and ipywidgets. See https://ipywidgets.readthedocs.io/en/stable/user_install.html\n",
      "  from .autonotebook import tqdm as notebook_tqdm\n"
     ]
    }
   ],
   "source": [
    "import pickle as pkl\n",
    "from pathlib import Path\n",
    "from typing import Tuple\n",
    "\n",
    "import pandas as pd\n",
    "from pandas import DataFrame, Series\n",
    "import matplotlib.pyplot as plt\n",
    "import mlflow\n",
    "import optuna\n",
    "from optuna.samplers import TPESampler\n",
    "\n",
    "from sklearn.model_selection import train_test_split\n",
    "from sklearn.linear_model import SGDClassifier, RidgeClassifier\n",
    "from sklearn.ensemble import RandomForestClassifier, GradientBoostingClassifier, ExtraTreesClassifier\n",
    "from sklearn.svm import LinearSVR\n",
    "import xgboost as xgb\n",
    "\n",
    "from sklearn.metrics import f1_score, recall_score, precision_score"
   ]
  },
  {
   "cell_type": "code",
   "execution_count": 2,
   "metadata": {},
   "outputs": [],
   "source": [
    "data = pd.read_csv('../data/raw/dermatology_database_1.csv')\n",
    "\n",
    "TARGET = 'class'"
   ]
  },
  {
   "cell_type": "code",
   "execution_count": 3,
   "metadata": {},
   "outputs": [
    {
     "data": {
      "text/html": [
       "<div>\n",
       "<style scoped>\n",
       "    .dataframe tbody tr th:only-of-type {\n",
       "        vertical-align: middle;\n",
       "    }\n",
       "\n",
       "    .dataframe tbody tr th {\n",
       "        vertical-align: top;\n",
       "    }\n",
       "\n",
       "    .dataframe thead th {\n",
       "        text-align: right;\n",
       "    }\n",
       "</style>\n",
       "<table border=\"1\" class=\"dataframe\">\n",
       "  <thead>\n",
       "    <tr style=\"text-align: right;\">\n",
       "      <th></th>\n",
       "      <th>erythema</th>\n",
       "      <th>scaling</th>\n",
       "      <th>definite_borders</th>\n",
       "      <th>itching</th>\n",
       "      <th>koebner_phenomenon</th>\n",
       "      <th>polygonal_papules</th>\n",
       "      <th>follicular_papules</th>\n",
       "      <th>oral_mucosal_involvement</th>\n",
       "      <th>knee_and_elbow_involvement</th>\n",
       "      <th>scalp_involvement</th>\n",
       "      <th>...</th>\n",
       "      <th>disappearance_granular_layer</th>\n",
       "      <th>vacuolisation_damage_basal_layer</th>\n",
       "      <th>spongiosis</th>\n",
       "      <th>saw_tooth_appearance_retes</th>\n",
       "      <th>follicular_horn_plug</th>\n",
       "      <th>perifollicular_parakeratosis</th>\n",
       "      <th>inflammatory_mononuclear_infiltrate</th>\n",
       "      <th>band_like_infiltrate</th>\n",
       "      <th>age</th>\n",
       "      <th>class</th>\n",
       "    </tr>\n",
       "  </thead>\n",
       "  <tbody>\n",
       "    <tr>\n",
       "      <th>0</th>\n",
       "      <td>2</td>\n",
       "      <td>2</td>\n",
       "      <td>0</td>\n",
       "      <td>3</td>\n",
       "      <td>0</td>\n",
       "      <td>0</td>\n",
       "      <td>0</td>\n",
       "      <td>0</td>\n",
       "      <td>1</td>\n",
       "      <td>0</td>\n",
       "      <td>...</td>\n",
       "      <td>0</td>\n",
       "      <td>0</td>\n",
       "      <td>3</td>\n",
       "      <td>0</td>\n",
       "      <td>0</td>\n",
       "      <td>0</td>\n",
       "      <td>1</td>\n",
       "      <td>0</td>\n",
       "      <td>55</td>\n",
       "      <td>2</td>\n",
       "    </tr>\n",
       "    <tr>\n",
       "      <th>1</th>\n",
       "      <td>3</td>\n",
       "      <td>3</td>\n",
       "      <td>3</td>\n",
       "      <td>2</td>\n",
       "      <td>1</td>\n",
       "      <td>0</td>\n",
       "      <td>0</td>\n",
       "      <td>0</td>\n",
       "      <td>1</td>\n",
       "      <td>1</td>\n",
       "      <td>...</td>\n",
       "      <td>0</td>\n",
       "      <td>0</td>\n",
       "      <td>0</td>\n",
       "      <td>0</td>\n",
       "      <td>0</td>\n",
       "      <td>0</td>\n",
       "      <td>1</td>\n",
       "      <td>0</td>\n",
       "      <td>8</td>\n",
       "      <td>1</td>\n",
       "    </tr>\n",
       "    <tr>\n",
       "      <th>2</th>\n",
       "      <td>2</td>\n",
       "      <td>1</td>\n",
       "      <td>2</td>\n",
       "      <td>3</td>\n",
       "      <td>1</td>\n",
       "      <td>3</td>\n",
       "      <td>0</td>\n",
       "      <td>3</td>\n",
       "      <td>0</td>\n",
       "      <td>0</td>\n",
       "      <td>...</td>\n",
       "      <td>0</td>\n",
       "      <td>2</td>\n",
       "      <td>3</td>\n",
       "      <td>2</td>\n",
       "      <td>0</td>\n",
       "      <td>0</td>\n",
       "      <td>2</td>\n",
       "      <td>3</td>\n",
       "      <td>26</td>\n",
       "      <td>3</td>\n",
       "    </tr>\n",
       "    <tr>\n",
       "      <th>3</th>\n",
       "      <td>2</td>\n",
       "      <td>2</td>\n",
       "      <td>2</td>\n",
       "      <td>0</td>\n",
       "      <td>0</td>\n",
       "      <td>0</td>\n",
       "      <td>0</td>\n",
       "      <td>0</td>\n",
       "      <td>3</td>\n",
       "      <td>2</td>\n",
       "      <td>...</td>\n",
       "      <td>3</td>\n",
       "      <td>0</td>\n",
       "      <td>0</td>\n",
       "      <td>0</td>\n",
       "      <td>0</td>\n",
       "      <td>0</td>\n",
       "      <td>3</td>\n",
       "      <td>0</td>\n",
       "      <td>40</td>\n",
       "      <td>1</td>\n",
       "    </tr>\n",
       "    <tr>\n",
       "      <th>4</th>\n",
       "      <td>2</td>\n",
       "      <td>3</td>\n",
       "      <td>2</td>\n",
       "      <td>2</td>\n",
       "      <td>2</td>\n",
       "      <td>2</td>\n",
       "      <td>0</td>\n",
       "      <td>2</td>\n",
       "      <td>0</td>\n",
       "      <td>0</td>\n",
       "      <td>...</td>\n",
       "      <td>2</td>\n",
       "      <td>3</td>\n",
       "      <td>2</td>\n",
       "      <td>3</td>\n",
       "      <td>0</td>\n",
       "      <td>0</td>\n",
       "      <td>2</td>\n",
       "      <td>3</td>\n",
       "      <td>45</td>\n",
       "      <td>3</td>\n",
       "    </tr>\n",
       "  </tbody>\n",
       "</table>\n",
       "<p>5 rows × 35 columns</p>\n",
       "</div>"
      ],
      "text/plain": [
       "   erythema  scaling  definite_borders  itching  koebner_phenomenon  \\\n",
       "0         2        2                 0        3                   0   \n",
       "1         3        3                 3        2                   1   \n",
       "2         2        1                 2        3                   1   \n",
       "3         2        2                 2        0                   0   \n",
       "4         2        3                 2        2                   2   \n",
       "\n",
       "   polygonal_papules  follicular_papules  oral_mucosal_involvement  \\\n",
       "0                  0                   0                         0   \n",
       "1                  0                   0                         0   \n",
       "2                  3                   0                         3   \n",
       "3                  0                   0                         0   \n",
       "4                  2                   0                         2   \n",
       "\n",
       "   knee_and_elbow_involvement  scalp_involvement  ...  \\\n",
       "0                           1                  0  ...   \n",
       "1                           1                  1  ...   \n",
       "2                           0                  0  ...   \n",
       "3                           3                  2  ...   \n",
       "4                           0                  0  ...   \n",
       "\n",
       "   disappearance_granular_layer  vacuolisation_damage_basal_layer  spongiosis  \\\n",
       "0                             0                                 0           3   \n",
       "1                             0                                 0           0   \n",
       "2                             0                                 2           3   \n",
       "3                             3                                 0           0   \n",
       "4                             2                                 3           2   \n",
       "\n",
       "   saw_tooth_appearance_retes  follicular_horn_plug  \\\n",
       "0                           0                     0   \n",
       "1                           0                     0   \n",
       "2                           2                     0   \n",
       "3                           0                     0   \n",
       "4                           3                     0   \n",
       "\n",
       "   perifollicular_parakeratosis  inflammatory_mononuclear_infiltrate  \\\n",
       "0                             0                                    1   \n",
       "1                             0                                    1   \n",
       "2                             0                                    2   \n",
       "3                             0                                    3   \n",
       "4                             0                                    2   \n",
       "\n",
       "   band_like_infiltrate  age  class  \n",
       "0                     0   55      2  \n",
       "1                     0    8      1  \n",
       "2                     3   26      3  \n",
       "3                     0   40      1  \n",
       "4                     3   45      3  \n",
       "\n",
       "[5 rows x 35 columns]"
      ]
     },
     "execution_count": 3,
     "metadata": {},
     "output_type": "execute_result"
    }
   ],
   "source": [
    "data.head()"
   ]
  },
  {
   "cell_type": "markdown",
   "metadata": {},
   "source": [
    "### Target distribution"
   ]
  },
  {
   "cell_type": "code",
   "execution_count": 3,
   "metadata": {},
   "outputs": [
    {
     "data": {
      "text/plain": [
       "Text(0.5, 1.0, 'Target distribution')"
      ]
     },
     "execution_count": 3,
     "metadata": {},
     "output_type": "execute_result"
    },
    {
     "data": {
      "image/png": "[encoded data removed]",
      "text/plain": [
       "<Figure size 640x480 with 1 Axes>"
      ]
     },
     "metadata": {},
     "output_type": "display_data"
    }
   ],
   "source": [
    "data[\"class\"].value_counts().plot(kind='bar', rot=0).set_title(\"Target distribution\")"
   ]
  },
  {
   "cell_type": "markdown",
   "metadata": {},
   "source": [
    "### Data preprocessing and splits for training and evaluation"
   ]
  },
  {
   "cell_type": "code",
   "execution_count": 4,
   "metadata": {},
   "outputs": [],
   "source": [
    "def transform_data(data: DataFrame) -> DataFrame:\n",
    "    \"\"\"Prepare data before data splits.\"\"\"\n",
    "    # Remove symbols \n",
    "    data = data[data['age'] != '?']\n",
    "    # Convert features dtype integer to float to hanlde possible/future missing values\n",
    "    data = data.astype(\"float64\")\n",
    "    # target class as integer\n",
    "    data['class'] = data['class'].astype(\"int16\")\n",
    "\n",
    "    return data\n",
    "\n",
    "data = transform_data(data)"
   ]
  },
  {
   "cell_type": "code",
   "execution_count": 26,
   "metadata": {},
   "outputs": [],
   "source": [
    "def split_data(X, y) -> Tuple[DataFrame, DataFrame, DataFrame, Series, Series, Series]:\n",
    "    \"\"\"Split data in train, validation and test splits.\"\"\"\n",
    "    X_train, X_test, y_train, y_test = train_test_split(X, y, test_size=0.1, stratify=y, random_state=1)\n",
    "    X_train, X_val, y_train, y_val  = train_test_split(X_train, y_train, test_size=0.1, stratify=y_train, random_state=1)\n",
    "    \n",
    "    return  X_train, X_val, X_test, y_train, y_val, y_test\n",
    "\n",
    "X_train, X_val, X_test, y_train, y_val, y_test = split_data(data.drop([TARGET], axis=1), data[TARGET])\n",
    "\n",
    "\n",
    "train = pd.concat([X_train, y_train], axis=1)\n",
    "val =  pd.concat([X_val, y_val], axis=1)\n",
    "test = pd.concat([X_test, y_test], axis=1)\n",
    "\n",
    "processed_output_dir = Path(\"../data/processed\")\n",
    "processed_output_dir.mkdir(exist_ok=True, parents=True)\n",
    "\n",
    "for split in [[\"train\", train],\n",
    "              [\"val\", val],\n",
    "              [\"test\", test]]:\n",
    "\n",
    "    split[1].to_pickle(str(processed_output_dir / f\"{split[0]}.pkl\"))"
   ]
  },
  {
   "cell_type": "code",
   "execution_count": 30,
   "metadata": {},
   "outputs": [
    {
     "data": {
      "image/png": "[encoded data removed]",
      "text/plain": [
       "<Figure size 640x480 with 1 Axes>"
      ]
     },
     "metadata": {},
     "output_type": "display_data"
    },
    {
     "data": {
      "image/png": "[encoded data removed]",
      "text/plain": [
       "<Figure size 640x480 with 1 Axes>"
      ]
     },
     "metadata": {},
     "output_type": "display_data"
    },
    {
     "data": {
      "image/png": "[encoded data removed]",
      "text/plain": [
       "<Figure size 640x480 with 1 Axes>"
      ]
     },
     "metadata": {},
     "output_type": "display_data"
    }
   ],
   "source": [
    "for split in [(y_train, \"Train\"), (y_val, \"Validation\"), (y_test, \"Test\")]:    \n",
    "    split[0].value_counts().plot(kind='bar', rot=0).set_title(f\"{split[1]} target distribution\")\n",
    "    plt.show()"
   ]
  },
  {
   "cell_type": "markdown",
   "metadata": {},
   "source": [
    "### Model search experiments"
   ]
  },
  {
   "cell_type": "code",
   "execution_count": 32,
   "metadata": {},
   "outputs": [
    {
     "data": {
      "text/plain": [
       "<Experiment: artifact_location='mlflow-artifacts:/203872331232149067', creation_time=1690039319886, experiment_id='203872331232149067', last_update_time=1690039319886, lifecycle_stage='active', name='dermatitis-baseline', tags={}>"
      ]
     },
     "execution_count": 32,
     "metadata": {},
     "output_type": "execute_result"
    }
   ],
   "source": [
    "mlflow.set_tracking_uri(\"http://127.0.0.1:5000\")\n",
    "mlflow.set_experiment(\"dermatitis-baseline\")"
   ]
  },
  {
   "cell_type": "code",
   "execution_count": 43,
   "metadata": {},
   "outputs": [
    {
     "name": "stdout",
     "output_type": "stream",
     "text": [
      "SGDClassifier F1: 0.94\n",
      "RidgeClassifier F1: 0.94\n",
      "RandomForestClassifier F1: 0.97\n",
      "GradientBoostingClassifier F1: 0.94\n",
      "ExtraTreesClassifier F1: 0.97\n"
     ]
    }
   ],
   "source": [
    "mlflow.sklearn.autolog()\n",
    "\n",
    "for model_class in (SGDClassifier, RidgeClassifier, RandomForestClassifier, GradientBoostingClassifier, ExtraTreesClassifier):\n",
    "    with mlflow.start_run(run_name=f\"{model_class.__name__}_baseline\"):\n",
    "        mlflow.log_param(\"data-path\", \"../data/dermatology_database_1.csv\")\n",
    "\n",
    "        model = model_class()\n",
    "        model.fit(X_train, y_train)\n",
    "\n",
    "        y_pred = model.predict(X_val)\n",
    "        # 'micro': calculate metrics globally by counting the total true positives, false negatives and false positives\n",
    "        f1 = f1_score(y_val, y_pred, average='micro')  \n",
    "        \n",
    "        mlflow.log_metric(\"F1\", f1)\n",
    "        \n",
    "        print(model_class.__name__, f\"F1: {round(f1, 2)}\")"
   ]
  },
  {
   "cell_type": "code",
   "execution_count": 44,
   "metadata": {},
   "outputs": [
    {
     "name": "stdout",
     "output_type": "stream",
     "text": [
      "[0]\tvalidation-merror:0.06061\n",
      "[1]\tvalidation-merror:0.06061\n",
      "[2]\tvalidation-merror:0.09091\n",
      "[3]\tvalidation-merror:0.06061\n",
      "[4]\tvalidation-merror:0.06061\n",
      "[5]\tvalidation-merror:0.06061\n",
      "[6]\tvalidation-merror:0.06061\n",
      "[7]\tvalidation-merror:0.09091\n",
      "[8]\tvalidation-merror:0.09091\n",
      "[9]\tvalidation-merror:0.09091\n",
      "[10]\tvalidation-merror:0.09091\n",
      "[11]\tvalidation-merror:0.09091\n",
      "[12]\tvalidation-merror:0.09091\n",
      "[13]\tvalidation-merror:0.09091\n",
      "[14]\tvalidation-merror:0.09091\n",
      "[15]\tvalidation-merror:0.09091\n",
      "[16]\tvalidation-merror:0.09091\n",
      "[17]\tvalidation-merror:0.09091\n",
      "[18]\tvalidation-merror:0.09091\n",
      "[19]\tvalidation-merror:0.09091\n",
      "[20]\tvalidation-merror:0.09091\n",
      "[21]\tvalidation-merror:0.09091\n",
      "[22]\tvalidation-merror:0.09091\n",
      "[23]\tvalidation-merror:0.09091\n",
      "[24]\tvalidation-merror:0.09091\n",
      "[25]\tvalidation-merror:0.09091\n",
      "[26]\tvalidation-merror:0.09091\n",
      "[27]\tvalidation-merror:0.09091\n",
      "[28]\tvalidation-merror:0.09091\n",
      "[29]\tvalidation-merror:0.09091\n",
      "[30]\tvalidation-merror:0.09091\n",
      "[31]\tvalidation-merror:0.09091\n",
      "[32]\tvalidation-merror:0.09091\n",
      "[33]\tvalidation-merror:0.09091\n",
      "[34]\tvalidation-merror:0.09091\n",
      "[35]\tvalidation-merror:0.09091\n",
      "[36]\tvalidation-merror:0.09091\n",
      "[37]\tvalidation-merror:0.09091\n",
      "[38]\tvalidation-merror:0.09091\n",
      "[39]\tvalidation-merror:0.09091\n",
      "[40]\tvalidation-merror:0.09091\n",
      "[41]\tvalidation-merror:0.09091\n",
      "[42]\tvalidation-merror:0.09091\n",
      "[43]\tvalidation-merror:0.09091\n",
      "[44]\tvalidation-merror:0.09091\n",
      "[45]\tvalidation-merror:0.09091\n",
      "[46]\tvalidation-merror:0.09091\n",
      "[47]\tvalidation-merror:0.09091\n",
      "[48]\tvalidation-merror:0.09091\n",
      "[49]\tvalidation-merror:0.09091\n",
      "[50]\tvalidation-merror:0.09091\n",
      "XGBoost F1: 0.91\n"
     ]
    }
   ],
   "source": [
    "mlflow.xgboost.autolog()\n",
    "    \n",
    "with mlflow.start_run(run_name=\"XGBoost_baseline\"):\n",
    "    mlflow.log_param(\"data-path\", \"../data/dermatology_database_1.csv\")\n",
    "    \n",
    "    train = xgb.DMatrix(X_train, label=y_train)\n",
    "    valid = xgb.DMatrix(X_val, label=y_val)\n",
    "    \n",
    "    # setup parameters for xgboost\n",
    "    params = {}\n",
    "    params['booster'] = 'gbtree'\n",
    "    params['objective'] = 'multi:softmax'\n",
    "    params[\"num_class\"] = 7\n",
    "    params[\"eval_metric\"] = \"merror\"\n",
    "    params['eta'] = 0.3\n",
    "    params['gamma'] = 0\n",
    "    params['max_depth'] = 6\n",
    "    params['min_child_weight']=1\n",
    "    params['max_delta_step'] = 0\n",
    "    params['subsample']= 1\n",
    "    params['colsample_bytree']=1\n",
    "    params['seed'] = 0\n",
    "    params['base_score'] = 0.5\n",
    "\n",
    "    booster = xgb.train(\n",
    "        params=params,\n",
    "        dtrain=train,\n",
    "        num_boost_round=1000,\n",
    "        evals=[(valid, 'validation')],\n",
    "        early_stopping_rounds=50,\n",
    "    )\n",
    "    \n",
    "    y_pred = booster.predict(valid)\n",
    "\n",
    "    f1 = f1_score(y_val, y_pred, average='micro')\n",
    "    \n",
    "    mlflow.log_metric(\"F1\", f1)\n",
    "    \n",
    "    print(f\"XGBoost F1: {round(f1, 2)}\")"
   ]
  },
  {
   "cell_type": "markdown",
   "metadata": {},
   "source": [
    "- I will select RandomForestClassifier"
   ]
  },
  {
   "cell_type": "markdown",
   "metadata": {},
   "source": [
    "### Model HPO"
   ]
  },
  {
   "cell_type": "code",
   "execution_count": 51,
   "metadata": {},
   "outputs": [
    {
     "name": "stderr",
     "output_type": "stream",
     "text": [
      "[I 2023-07-22 19:41:23,165] A new study created in memory with name: no-name-7c6b3fab-1333-4acf-a8d2-372e5de7129a\n",
      "[I 2023-07-22 19:41:25,898] Trial 0 finished with value: 0.9696969696969697 and parameters: {'n_estimators': 39, 'max_depth': 20, 'min_samples_split': 8, 'min_samples_leaf': 6}. Best is trial 0 with value: 0.9696969696969697.\n",
      "[I 2023-07-22 19:41:28,343] Trial 1 finished with value: 0.9696969696969697 and parameters: {'n_estimators': 17, 'max_depth': 4, 'min_samples_split': 2, 'min_samples_leaf': 9}. Best is trial 0 with value: 0.9696969696969697.\n",
      "[I 2023-07-22 19:41:30,945] Trial 2 finished with value: 0.9696969696969697 and parameters: {'n_estimators': 61, 'max_depth': 15, 'min_samples_split': 2, 'min_samples_leaf': 10}. Best is trial 0 with value: 0.9696969696969697.\n",
      "[I 2023-07-22 19:41:33,748] Trial 3 finished with value: 0.9696969696969697 and parameters: {'n_estimators': 84, 'max_depth': 5, 'min_samples_split': 3, 'min_samples_leaf': 2}. Best is trial 0 with value: 0.9696969696969697.\n",
      "[I 2023-07-22 19:41:36,323] Trial 4 finished with value: 0.9393939393939394 and parameters: {'n_estimators': 32, 'max_depth': 11, 'min_samples_split': 5, 'min_samples_leaf': 3}. Best is trial 0 with value: 0.9696969696969697.\n",
      "[I 2023-07-22 19:41:38,903] Trial 5 finished with value: 0.9393939393939394 and parameters: {'n_estimators': 62, 'max_depth': 3, 'min_samples_split': 4, 'min_samples_leaf': 4}. Best is trial 0 with value: 0.9696969696969697.\n",
      "[I 2023-07-22 19:41:41,409] Trial 6 finished with value: 0.9393939393939394 and parameters: {'n_estimators': 47, 'max_depth': 16, 'min_samples_split': 3, 'min_samples_leaf': 6}. Best is trial 0 with value: 0.9696969696969697.\n",
      "c:\\Users\\Aussar\\.virtualenvs\\mlops-zoomcamp-project-fK4v1EPx\\lib\\site-packages\\sklearn\\metrics\\_classification.py:1469: UndefinedMetricWarning: Precision is ill-defined and being set to 0.0 in labels with no predicted samples. Use `zero_division` parameter to control this behavior.\n",
      "  _warn_prf(average, modifier, msg_start, len(result))\n",
      "[I 2023-07-22 19:41:43,983] Trial 7 finished with value: 0.696969696969697 and parameters: {'n_estimators': 60, 'max_depth': 1, 'min_samples_split': 7, 'min_samples_leaf': 2}. Best is trial 0 with value: 0.9696969696969697.\n",
      "[I 2023-07-22 19:41:46,422] Trial 8 finished with value: 0.9393939393939394 and parameters: {'n_estimators': 8, 'max_depth': 19, 'min_samples_split': 10, 'min_samples_leaf': 9}. Best is trial 0 with value: 0.9696969696969697.\n",
      "c:\\Users\\Aussar\\.virtualenvs\\mlops-zoomcamp-project-fK4v1EPx\\lib\\site-packages\\sklearn\\metrics\\_classification.py:1469: UndefinedMetricWarning: Precision is ill-defined and being set to 0.0 in labels with no predicted samples. Use `zero_division` parameter to control this behavior.\n",
      "  _warn_prf(average, modifier, msg_start, len(result))\n",
      "[I 2023-07-22 19:41:48,911] Trial 9 finished with value: 0.8181818181818182 and parameters: {'n_estimators': 32, 'max_depth': 2, 'min_samples_split': 8, 'min_samples_leaf': 5}. Best is trial 0 with value: 0.9696969696969697.\n"
     ]
    },
    {
     "name": "stdout",
     "output_type": "stream",
     "text": [
      "F1: 0.9696969696969697\n",
      "Best hyperparameters: {'n_estimators': 39, 'max_depth': 20, 'min_samples_split': 8, 'min_samples_leaf': 6}\n"
     ]
    }
   ],
   "source": [
    "def objective(trial):\n",
    "    params = {\n",
    "        \"n_estimators\" : trial.suggest_int('n_estimators', 2, 100, 1),\n",
    "        \"max_depth\" : trial.suggest_int('max_depth', 1, 20, 1),\n",
    "        \"min_samples_split\" : trial.suggest_int('min_samples_split', 2, 10, 1),\n",
    "        \"min_samples_leaf\" : trial.suggest_int('min_samples_leaf', 1, 10, 1),\n",
    "        'random_state': 42,\n",
    "        'n_jobs': -1\n",
    "    }\n",
    "\n",
    "    with mlflow.start_run(run_name=f\"RandomForestClassifier_HPO\"):\n",
    "        mlflow.log_params(params)\n",
    "        model = RandomForestClassifier(**params)\n",
    "        model.fit(X_train, y_train)\n",
    "        y_pred = model.predict(X_val)\n",
    "        f1 = f1_score(y_val, y_pred, average='micro')\n",
    "        mlflow.log_metric(\"F1\", f1)\n",
    "\n",
    "    return f1\n",
    "\n",
    "sampler = TPESampler(seed=42)\n",
    "study = optuna.create_study(direction=\"maximize\", sampler=sampler)\n",
    "study.optimize(objective, n_trials=10)\n",
    "    \n",
    "trial = study.best_trial\n",
    "\n",
    "print('F1: {}'.format(trial.value))\n",
    "print(\"Best hyperparameters: {}\".format(trial.params))"
   ]
  }
 ],
 "metadata": {
  "kernelspec": {
   "display_name": "mlops-zoomcamp-2023-xhqrkXkH",
   "language": "python",
   "name": "python3"
  },
  "language_info": {
   "codemirror_mode": {
    "name": "ipython",
    "version": 3
   },
   "file_extension": ".py",
   "mimetype": "text/x-python",
   "name": "python",
   "nbconvert_exporter": "python",
   "pygments_lexer": "ipython3",
   "version": "3.10.11"
  },
  "orig_nbformat": 4
 },
 "nbformat": 4,
 "nbformat_minor": 2
}
